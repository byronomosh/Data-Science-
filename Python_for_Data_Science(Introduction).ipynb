{
  "nbformat": 4,
  "nbformat_minor": 0,
  "metadata": {
    "colab": {
      "provenance": [],
      "authorship_tag": "ABX9TyOAwkYOtPc7Dtt9t3sTN6Tg",
      "include_colab_link": true
    },
    "kernelspec": {
      "name": "python3",
      "display_name": "Python 3"
    },
    "language_info": {
      "name": "python"
    }
  },
  "cells": [
    {
      "cell_type": "markdown",
      "metadata": {
        "id": "view-in-github",
        "colab_type": "text"
      },
      "source": [
        "<a href=\"https://colab.research.google.com/github/byronomosh/Data-Science-/blob/main/Python_for_Data_Science(Introduction).ipynb\" target=\"_parent\"><img src=\"https://colab.research.google.com/assets/colab-badge.svg\" alt=\"Open In Colab\"/></a>"
      ]
    },
    {
      "cell_type": "markdown",
      "source": [
        "Introduction To Python"
      ],
      "metadata": {
        "id": "EXF_L3Xp-jno"
      }
    },
    {
      "cell_type": "code",
      "source": [
        "# When you want to run a command in Python use the command print() e.g\n",
        "print(\"Hello, World\")"
      ],
      "metadata": {
        "colab": {
          "base_uri": "https://localhost:8080/"
        },
        "id": "cJ-JT-N5-pHL",
        "outputId": "657d7604-d2a3-4133-f362-09cb57d1c2b1"
      },
      "execution_count": null,
      "outputs": [
        {
          "output_type": "stream",
          "name": "stdout",
          "text": [
            "Hello, World\n"
          ]
        }
      ]
    },
    {
      "cell_type": "code",
      "source": [
        "# When you are done writig codes in the Python command interface, use the command exist() to exist the interface"
      ],
      "metadata": {
        "id": "NOuY_xG1_qHq"
      },
      "execution_count": null,
      "outputs": []
    },
    {
      "cell_type": "code",
      "source": [
        "# Indentation is key in Python, it is the spacing before the python command e.g\n",
        "if 2<7:\n",
        "  print(\"2 is less than 7\") # An if statement also ends with a full colon\n",
        "# Disregarding the indentation rule leads to an indentation Errror.\n",
        "\"\"\" if 3<9:\n",
        "print(\"3 is less than 9\")\"\"\"\n"
      ],
      "metadata": {
        "colab": {
          "base_uri": "https://localhost:8080/"
        },
        "id": "qFZkL8oJ_8ZH",
        "outputId": "550de20d-97fc-4071-f152-e5ca5659434c"
      },
      "execution_count": null,
      "outputs": [
        {
          "output_type": "stream",
          "name": "stdout",
          "text": [
            "2 is less than 7\n"
          ]
        }
      ]
    },
    {
      "cell_type": "markdown",
      "source": [
        "Variables"
      ],
      "metadata": {
        "id": "ujp8y4gHBt0r"
      }
    },
    {
      "cell_type": "markdown",
      "source": [
        "Variable names are containers used to store data Values "
      ],
      "metadata": {
        "id": "Ccujt08nByh8"
      }
    },
    {
      "cell_type": "code",
      "source": [
        "# Examples of variables\n",
        "x=2\n",
        "y=6\n",
        "z=9\n",
        "p=\"Byron\"\n",
        "print(z+y+x)\n",
        "print(p)"
      ],
      "metadata": {
        "colab": {
          "base_uri": "https://localhost:8080/"
        },
        "id": "8tNqUjMjBv3f",
        "outputId": "d97a7952-ced7-4c20-9f8e-3a6d9e8d3f82"
      },
      "execution_count": null,
      "outputs": [
        {
          "output_type": "stream",
          "name": "stdout",
          "text": [
            "17\n",
            "Byron\n"
          ]
        }
      ]
    },
    {
      "cell_type": "code",
      "source": [
        "# Commenting in Python is done through various ways \n",
        "# Using Hag symbol\n",
        "# Using the triple quotation mark for multi-line commenting\n",
        "# Another method for multi-line commenting is by selecting the entire line of codes you want to comment and press ctrl+/\n"
      ],
      "metadata": {
        "id": "PDO2yPLSD0e4"
      },
      "execution_count": null,
      "outputs": []
    },
    {
      "cell_type": "markdown",
      "source": [
        "Rules of Variable Naming\n",
        "1.Variable names are Case Sensitive\n",
        "y=5 is not same as Y= 6\n",
        "2. Variable name can only start with either an underscore or an alphabet i.e\n",
        "student=1000 or _student=21034\n",
        "3. Variable names can only contain Underscore and alphanumeric characters but not special characters.\n",
        "4. Variable names cannot start with a number"
      ],
      "metadata": {
        "id": "y9aMSGuiFTAP"
      }
    },
    {
      "cell_type": "code",
      "source": [
        "# Multi Words Variable Naming\n",
        "# Three ways\n",
        "# 1. Carmel Casing\n",
        "myVariableName=3 # Starts with a small letter\n",
        "# 2. Pascal Casing \n",
        "MyVariableName=4 # Every word starts with a capital\n",
        "# 3. Snake Casing\n",
        "My_Variable_Name=5 # Use underscore to separate the words.\n"
      ],
      "metadata": {
        "id": "XHWtEk0oFRpQ"
      },
      "execution_count": null,
      "outputs": []
    },
    {
      "cell_type": "code",
      "source": [
        "# Multiple Values to Multiple Variables\n",
        "x,y,z=2,3,4 # Make sure the number of values matches the number of variables\n",
        "print(x+y+z)"
      ],
      "metadata": {
        "colab": {
          "base_uri": "https://localhost:8080/"
        },
        "id": "IjxzTgVsIhyg",
        "outputId": "b5fb9cae-5782-45be-ec04-d347371715e0"
      },
      "execution_count": null,
      "outputs": [
        {
          "output_type": "stream",
          "name": "stdout",
          "text": [
            "9\n"
          ]
        }
      ]
    },
    {
      "cell_type": "code",
      "source": [
        "# t,h,r=8\n",
        "# print(t)\n",
        "# print(h)\n",
        "# print(r)\n",
        "#will bring a Type Error"
      ],
      "metadata": {
        "id": "50wtPSdPJv9W"
      },
      "execution_count": null,
      "outputs": []
    },
    {
      "cell_type": "code",
      "source": [
        "# One values multiple Variable\n",
        "t=h=r=8\n",
        "print(t)\n",
        "print(h)\n",
        "print(r)"
      ],
      "metadata": {
        "colab": {
          "base_uri": "https://localhost:8080/"
        },
        "id": "5b9ChsWdKdII",
        "outputId": "56f7b3f1-d9c6-442e-ce69-d90ea741338c"
      },
      "execution_count": null,
      "outputs": [
        {
          "output_type": "stream",
          "name": "stdout",
          "text": [
            "8\n",
            "8\n",
            "8\n"
          ]
        }
      ]
    },
    {
      "cell_type": "code",
      "source": [
        "#Unpacking a list \n",
        "list1=[1,2,3,4,5,6]\n",
        "z,a,w,r,t,y= list1\n",
        "print(z)\n",
        "print(a)\n",
        "print(w)\n",
        "print(r)\n",
        "print(t)\n",
        "print(y)"
      ],
      "metadata": {
        "colab": {
          "base_uri": "https://localhost:8080/"
        },
        "id": "d4ezjF02KsBd",
        "outputId": "a48737f9-4b21-4c33-8795-7d4d58d000a2"
      },
      "execution_count": null,
      "outputs": [
        {
          "output_type": "stream",
          "name": "stdout",
          "text": [
            "1\n",
            "2\n",
            "3\n",
            "4\n",
            "5\n",
            "6\n"
          ]
        }
      ]
    },
    {
      "cell_type": "code",
      "source": [
        "z=4\n",
        "y=\"Byron\"\n",
        "print(z,y)"
      ],
      "metadata": {
        "colab": {
          "base_uri": "https://localhost:8080/"
        },
        "id": "GdImR-OiLTZ7",
        "outputId": "dcf917d3-7ce1-45a8-dd38-21d15a2668c3"
      },
      "execution_count": null,
      "outputs": [
        {
          "output_type": "stream",
          "name": "stdout",
          "text": [
            "4 Byron\n"
          ]
        }
      ]
    },
    {
      "cell_type": "code",
      "source": [
        "# A variable created outide a function, that means it can be used anywhere within the Python code interface, is called a Global Variable"
      ],
      "metadata": {
        "id": "xpJA4VjxLrdb"
      },
      "execution_count": null,
      "outputs": []
    },
    {
      "cell_type": "markdown",
      "source": [
        "**Data Types**\n",
        "1. Intergers (int) 1,2,3,4,5\n",
        "2. Strings,Objects (str) alphabets\n",
        "3. floats decimals 2.34,3.0,4.3445\n",
        "4. Complex numbers 3a,5z,9y\n",
        "5. Boolen Yes or No\n",
        "\n"
      ],
      "metadata": {
        "id": "LgpOEQD5MR-c"
      }
    },
    {
      "cell_type": "markdown",
      "source": [
        "Data Types exist in the following categories:\n",
        "\n",
        "Text - String\n",
        "\n",
        "Numeric- Integer,floats,complex\n",
        "\n",
        "sequence - list, turple\n",
        "\n",
        "Boolen- bool "
      ],
      "metadata": {
        "id": "9kko8w8zdwqo"
      }
    },
    {
      "cell_type": "code",
      "source": [
        "# Casting\n",
        "#This reffers to as specifying the type of data used\n",
        "x=str(\"x\")\n",
        "print(x)"
      ],
      "metadata": {
        "colab": {
          "base_uri": "https://localhost:8080/"
        },
        "id": "Bhuj02xpMJin",
        "outputId": "b7431b15-4e71-4285-e878-cd29a25102d2"
      },
      "execution_count": null,
      "outputs": [
        {
          "output_type": "stream",
          "name": "stdout",
          "text": [
            "x\n"
          ]
        }
      ]
    },
    {
      "cell_type": "code",
      "source": [
        "z=int(2.5667)\n",
        "print(z)\n",
        "\n",
        "y=float(2)\n",
        "z=int(2.5678)\n",
        "s=float(\"3\")\n",
        "print(y)\n",
        "print(z)\n",
        "print(s)\n"
      ],
      "metadata": {
        "colab": {
          "base_uri": "https://localhost:8080/"
        },
        "id": "snJ3U_Zweg35",
        "outputId": "653deffd-dd45-432f-a341-bae444c53758"
      },
      "execution_count": null,
      "outputs": [
        {
          "output_type": "stream",
          "name": "stdout",
          "text": [
            "2\n",
            "2.0\n",
            "2\n",
            "3.0\n"
          ]
        }
      ]
    },
    {
      "cell_type": "code",
      "source": [
        "print(type(z))\n",
        "#To know the Data type used, use the Type command type()"
      ],
      "metadata": {
        "colab": {
          "base_uri": "https://localhost:8080/"
        },
        "id": "GhwZ43ede3w9",
        "outputId": "8b0e0572-f992-48dd-d83c-dfbf26f174b4"
      },
      "execution_count": null,
      "outputs": [
        {
          "output_type": "stream",
          "name": "stdout",
          "text": [
            "<class 'int'>\n"
          ]
        }
      ]
    },
    {
      "cell_type": "code",
      "source": [
        "# Complex numbers \n",
        "# examples\n",
        "x=8j\n",
        "z= 8j+45\n",
        "print (x,z)\n"
      ],
      "metadata": {
        "colab": {
          "base_uri": "https://localhost:8080/"
        },
        "id": "3JhXT7Hwe-0X",
        "outputId": "89044e6f-83a7-4a54-82b0-0a0d674da62c"
      },
      "execution_count": null,
      "outputs": [
        {
          "output_type": "stream",
          "name": "stdout",
          "text": [
            "8j (45+8j)\n"
          ]
        }
      ]
    },
    {
      "cell_type": "code",
      "source": [
        "# Complex numbers are written with a \"j\" as the imaginary part"
      ],
      "metadata": {
        "id": "Tow009i8fhni"
      },
      "execution_count": null,
      "outputs": []
    },
    {
      "cell_type": "markdown",
      "source": [
        "In order to generate Synthetic data set we use libraries like random and faker\n",
        "Random- generate a random number within a given range e.g\n",
        "\n",
        "random.randrange(1,10) - generate a single random number between 1 and 10"
      ],
      "metadata": {
        "id": "fxoGBEEugYXy"
      }
    },
    {
      "cell_type": "code",
      "source": [
        "import random\n",
        "\n",
        "y=random.randrange(1,10)\n",
        "print(y)"
      ],
      "metadata": {
        "colab": {
          "base_uri": "https://localhost:8080/"
        },
        "id": "rXhqjTqag-aJ",
        "outputId": "46c377f5-a736-4f37-ebd6-f5e83e2122ea"
      },
      "execution_count": null,
      "outputs": [
        {
          "output_type": "stream",
          "name": "stdout",
          "text": [
            "6\n"
          ]
        }
      ]
    },
    {
      "cell_type": "code",
      "source": [
        "# Strings\n",
        "y=\"Byron\"\n",
        "# FOR Multiline string use either thriple double quotations or the triple single quotation marks\n",
        "y=\"\"\"Like many other popular programming languages, strings in Python are arrays of bytes representing unicode characters.\n",
        "\n",
        "However, Python does not have a character data type, a single character is simply a string with a length of 1\"\"\"\n",
        "print(y)"
      ],
      "metadata": {
        "colab": {
          "base_uri": "https://localhost:8080/"
        },
        "id": "xwIfsZ2FhLbw",
        "outputId": "3359c930-602a-4ba7-aed9-dd98b7919981"
      },
      "execution_count": null,
      "outputs": [
        {
          "output_type": "stream",
          "name": "stdout",
          "text": [
            "Like many other popular programming languages, strings in Python are arrays of bytes representing unicode characters.\n",
            "\n",
            "However, Python does not have a character data type, a single character is simply a string with a length of 1\n"
          ]
        }
      ]
    },
    {
      "cell_type": "code",
      "source": [
        "# To find the lenth of a string use i.e the number of characters used in the string\n",
        "len(y)"
      ],
      "metadata": {
        "colab": {
          "base_uri": "https://localhost:8080/"
        },
        "id": "VVPZWgCCivs2",
        "outputId": "11b9cd70-77ac-4cfd-990d-a15300d73985"
      },
      "execution_count": null,
      "outputs": [
        {
          "output_type": "execute_result",
          "data": {
            "text/plain": [
              "228"
            ]
          },
          "metadata": {},
          "execution_count": 17
        }
      ]
    },
    {
      "cell_type": "code",
      "source": [
        "# String slicing\n",
        "# Slicing uses indexing values to obtain some characters when a string\n",
        "#Example\n",
        "y=\"Byron\"\n",
        "print(y[0])\n",
        "print(y[1])\n",
        "print(y[2])\n",
        "print(y[3])\n",
        "print(y[4])\n",
        "print(y[0:]) # From the starting character\n",
        "print(y[0:2]) # Character at index 2 is excluded\n",
        "print(y[-5:-1])# Character at index-1 which is the furtherest one from the end is excluded\n"
      ],
      "metadata": {
        "colab": {
          "base_uri": "https://localhost:8080/"
        },
        "id": "bsktNRFfi1gT",
        "outputId": "21f840a5-4803-4de6-a39f-60f584c97e14"
      },
      "execution_count": null,
      "outputs": [
        {
          "output_type": "stream",
          "name": "stdout",
          "text": [
            "B\n",
            "y\n",
            "r\n",
            "o\n",
            "n\n",
            "Byron\n",
            "By\n",
            "Byro\n"
          ]
        }
      ]
    },
    {
      "cell_type": "code",
      "source": [
        "# String Modification\n",
        "# upper() Convert everything in the argument to Capital letters\n",
        "# lower() Convert everything in the argument to small letters\n",
        "# replace() Replaces one argument in the paranthessis with another onein the paranthessis\n",
        "# split() \n",
        "\n"
      ],
      "metadata": {
        "id": "qt7N3fVpmkxB"
      },
      "execution_count": null,
      "outputs": []
    },
    {
      "cell_type": "code",
      "source": [
        "#format()- this command takes pass arguement, format it and places it where placeholders {} are \n",
        "# Example\n",
        "age= 24\n",
        "print(\" My name is Byron Apheth and my age is {}\".format(age))\n",
        "#example 2\n",
        "Name1 = \"Byron\"\n",
        "Name2= \"Apheth\"\n",
        "age= 24\n",
        "print(\"My name is {} {} and my age is {}\" .format(Name1, Name2, age))\n",
        "#Example 3\n",
        "quantity = 3\n",
        "itemno = 567\n",
        "price = 49.95\n",
        "myorder = \"I want to pay {2} dollars for {0} pieces of item {1}.\"\n",
        "print(myorder.format(quantity, itemno, price))"
      ],
      "metadata": {
        "colab": {
          "base_uri": "https://localhost:8080/"
        },
        "id": "CLGnYDcawHNV",
        "outputId": "69bb401d-4da6-489c-98ad-a1fdcd1e71bf"
      },
      "execution_count": null,
      "outputs": [
        {
          "output_type": "stream",
          "name": "stdout",
          "text": [
            " My name is Byron Apheth and my age is 24\n",
            "My name is Byron Apheth and my age is 24\n",
            "I want to pay 49.95 dollars for 3 pieces of item 567.\n"
          ]
        }
      ]
    },
    {
      "cell_type": "code",
      "source": [
        "# Boolen Values\n",
        "x=35\n",
        "z=\"Byron\"\n",
        "print(bool(x))\n",
        "print(bool(z))"
      ],
      "metadata": {
        "colab": {
          "base_uri": "https://localhost:8080/"
        },
        "id": "GwAx8h_Gwt-U",
        "outputId": "927ca36e-415d-4c95-b2d9-c9d43a26e59f"
      },
      "execution_count": null,
      "outputs": [
        {
          "output_type": "stream",
          "name": "stdout",
          "text": [
            "True\n",
            "True\n"
          ]
        }
      ]
    },
    {
      "cell_type": "code",
      "source": [
        "print(2<5)"
      ],
      "metadata": {
        "colab": {
          "base_uri": "https://localhost:8080/"
        },
        "id": "s9G2sPjnyhHD",
        "outputId": "cfa03356-b78d-4cde-ebe1-6dd440a025d7"
      },
      "execution_count": null,
      "outputs": [
        {
          "output_type": "stream",
          "name": "stdout",
          "text": [
            "True\n"
          ]
        }
      ]
    },
    {
      "cell_type": "markdown",
      "source": [
        "Python Operators"
      ],
      "metadata": {
        "id": "0x6UyJ8fyw3I"
      }
    },
    {
      "cell_type": "code",
      "source": [
        "# Addition\n",
        "print(12+2345)"
      ],
      "metadata": {
        "colab": {
          "base_uri": "https://localhost:8080/"
        },
        "id": "pWGQeBkoynLD",
        "outputId": "c2e894ee-50db-4ac3-94fa-6145fabdd7d5"
      },
      "execution_count": null,
      "outputs": [
        {
          "output_type": "stream",
          "name": "stdout",
          "text": [
            "2357\n"
          ]
        }
      ]
    },
    {
      "cell_type": "markdown",
      "source": [
        "**Lists**\n",
        "\n",
        "Example\n",
        "\n",
        "list1=[1,2,3,4,5,6,7]\n",
        "\n",
        "list2=[\"Byron\",\"Omondi\",\"apheth\"]\n",
        "\n",
        "List has order(from index 0 on-wards), can be changed and allows debulicate values"
      ],
      "metadata": {
        "id": "qK7pPN0DUSUG"
      }
    },
    {
      "cell_type": "code",
      "source": [
        "list1=[1,2,3,4,5,6,7,4,3,2,]\n",
        "list2=[\"Byron\",\"Omondi\",\"apheth\"] # Lists have square Brackets\n",
        "list3=[1.234,2.344,23.566,23456.89]\n",
        "print(list1)\n",
        "print(list2)\n",
        "print(list3)\n"
      ],
      "metadata": {
        "colab": {
          "base_uri": "https://localhost:8080/"
        },
        "id": "3cANCpkqy4IJ",
        "outputId": "ebf6afbc-c2f6-4386-b659-79948fd20186"
      },
      "execution_count": null,
      "outputs": [
        {
          "output_type": "stream",
          "name": "stdout",
          "text": [
            "[1, 2, 3, 4, 5, 6, 7, 4, 3, 2]\n",
            "['Byron', 'Omondi', 'apheth']\n",
            "[1.234, 2.344, 23.566, 23456.89]\n"
          ]
        }
      ]
    },
    {
      "cell_type": "code",
      "source": [
        "len(list1) # Counts the number of item in List\n",
        "print(type(list1))"
      ],
      "metadata": {
        "colab": {
          "base_uri": "https://localhost:8080/"
        },
        "id": "HdeDaiJlVHqw",
        "outputId": "371ff63e-4ecd-414f-d743-423382072216"
      },
      "execution_count": null,
      "outputs": [
        {
          "output_type": "stream",
          "name": "stdout",
          "text": [
            "<class 'list'>\n"
          ]
        }
      ]
    },
    {
      "cell_type": "code",
      "source": [
        "list4=[1,\"Byron\",2,\"Omondi\",2.345, \"yes\"] # List can contain different data types\n",
        "print(list4)"
      ],
      "metadata": {
        "colab": {
          "base_uri": "https://localhost:8080/"
        },
        "id": "lkSPP7BJVtQ6",
        "outputId": "48ba0013-d8d2-427b-93bf-316944a0b803"
      },
      "execution_count": null,
      "outputs": [
        {
          "output_type": "stream",
          "name": "stdout",
          "text": [
            "[1, 'Byron', 2, 'Omondi', 2.345, 'yes']\n"
          ]
        }
      ]
    },
    {
      "cell_type": "code",
      "source": [
        "#The list() command is used to develop a list for example\n",
        "z=list((\"Mango\",\"Orange\",\"Onion\",\"Banana\"))\n",
        "print(type(z))\n",
        "print(z)"
      ],
      "metadata": {
        "colab": {
          "base_uri": "https://localhost:8080/"
        },
        "id": "6KXoVcVWWO5o",
        "outputId": "4ce872b8-cc45-411c-c200-926e93760313"
      },
      "execution_count": null,
      "outputs": [
        {
          "output_type": "stream",
          "name": "stdout",
          "text": [
            "<class 'list'>\n",
            "['Mango', 'Orange', 'Onion', 'Banana']\n"
          ]
        }
      ]
    },
    {
      "cell_type": "markdown",
      "source": [
        "There are four collection data types in the Python programming language:\n",
        "\n",
        "List is a collection which is ordered and changeable. Allows duplicate members.\n",
        "\n",
        "Tuple is a collection which is ordered and unchangeable. Allows duplicate members.\n",
        "\n",
        "Set is a collection which is unordered, unchangeable*, and unindexed. No duplicate members.\n",
        "\n",
        "Dictionary is a collection which is ordered** and changeable. No duplicate members."
      ],
      "metadata": {
        "id": "7Y7YiiYSXIik"
      }
    },
    {
      "cell_type": "code",
      "source": [
        "list1=[1,2,3,4,5,6,7,4,3,2,]\n",
        "list2=[\"Byron\",\"Omondi\",\"apheth\"] # Lists have square Brackets\n",
        "list3=[1.234,2.344,23.566,23456.89]\n",
        "print(list1[:]) # Show the entire items in the lists\n",
        "print(list1[-5:-1]) #-1 is the last item on the list \n",
        "print(list1[1:2]) # Item index 2 is excluded\n",
        "print(list1[1:7])# Item index 7 is aslo excluded"
      ],
      "metadata": {
        "colab": {
          "base_uri": "https://localhost:8080/"
        },
        "id": "z8gxj5ZBW_EQ",
        "outputId": "1ec7a0a0-0b2c-4625-c41b-a92dc2f2bdf3"
      },
      "execution_count": null,
      "outputs": [
        {
          "output_type": "stream",
          "name": "stdout",
          "text": [
            "[1, 2, 3, 4, 5, 6, 7, 4, 3, 2]\n",
            "[6, 7, 4, 3]\n",
            "[2]\n",
            "[2, 3, 4, 5, 6, 7]\n"
          ]
        }
      ]
    },
    {
      "cell_type": "code",
      "source": [
        "# Changing Items on the List\n",
        "list2=[\"Byron\",\"Omondi\",\"apheth\"]\n",
        "list2[0]=\"Brandon\"\n",
        "list2[1]=\"Japheth\"\n",
        "list2[2]=\"Omondi\"\n",
        "print(list2)"
      ],
      "metadata": {
        "id": "RKcR7bBo0e1m",
        "colab": {
          "base_uri": "https://localhost:8080/"
        },
        "outputId": "4f454050-9325-4144-c477-4fc1d3dca996"
      },
      "execution_count": null,
      "outputs": [
        {
          "output_type": "stream",
          "name": "stdout",
          "text": [
            "['Brandon', 'Japheth', 'Omondi']\n"
          ]
        }
      ]
    },
    {
      "cell_type": "code",
      "source": [
        "list2[:2]=[\"Bramwel\",\"Otieno\"]\n",
        "print(list2)"
      ],
      "metadata": {
        "colab": {
          "base_uri": "https://localhost:8080/"
        },
        "id": "PknYrWhbOHxz",
        "outputId": "961ec7a1-3ffe-4520-98b1-f1d5f3026913"
      },
      "execution_count": null,
      "outputs": [
        {
          "output_type": "stream",
          "name": "stdout",
          "text": [
            "['Bramwel', 'Otieno', 'Omondi']\n"
          ]
        }
      ]
    },
    {
      "cell_type": "code",
      "source": [
        "# Inserting Object in a list\n",
        "# We use the Insert() command e.g It has two arguement, 1 the position of the item you  want to insert and the item \n",
        "list2.insert(2,\"Ochieng\") # It does not replace but inserts an new object the list without removing another\n",
        "print(list2)"
      ],
      "metadata": {
        "colab": {
          "base_uri": "https://localhost:8080/"
        },
        "id": "B8UoymqtOp0m",
        "outputId": "85621c48-4704-489d-e91a-692394981e4a"
      },
      "execution_count": null,
      "outputs": [
        {
          "output_type": "stream",
          "name": "stdout",
          "text": [
            "['Bramwel', 'Otieno', 'Ochieng', 'Ochieng', 'Omondi']\n"
          ]
        }
      ]
    },
    {
      "cell_type": "code",
      "source": [
        "#Unlike the Insert() which one is able to specify the new item will go, append() pushes the item to the last position in the list\n",
        "list2.append(\"Christine\")\n",
        "print(list2)"
      ],
      "metadata": {
        "colab": {
          "base_uri": "https://localhost:8080/"
        },
        "id": "NQS83IcCPKxj",
        "outputId": "8570bb22-634c-4875-bae1-1f8c2e984343"
      },
      "execution_count": null,
      "outputs": [
        {
          "output_type": "stream",
          "name": "stdout",
          "text": [
            "['Bramwel', 'Otieno', 'Ochieng', 'Ochieng', 'Omondi', 'Christine']\n"
          ]
        }
      ]
    },
    {
      "cell_type": "code",
      "source": [
        "# How do you combine two lists or rather, a list and a  set or a turple\n",
        "# Use extend()command\n",
        "# Example\n",
        "list1=[1,2,3,4,5]\n",
        "list2=[9,8,10,11,14]\n",
        "list3=list1.extend(list2)\n",
        "print(list3)\n",
        "#the problem is with making the extended list as a new variable\n",
        "#Solution\n",
        "list1=[1,2,3,4,5]\n",
        "list2=[9,8,10,11,14]\n",
        "list1.extend(list2)\n",
        "print(list1)\n"
      ],
      "metadata": {
        "colab": {
          "base_uri": "https://localhost:8080/"
        },
        "id": "UP-zbtkCQrvE",
        "outputId": "79b48ba2-062f-4f7f-bd66-99e41e34067c"
      },
      "execution_count": null,
      "outputs": [
        {
          "output_type": "stream",
          "name": "stdout",
          "text": [
            "None\n",
            "[1, 2, 3, 4, 5, 9, 8, 10, 11, 14]\n"
          ]
        }
      ]
    },
    {
      "cell_type": "code",
      "source": [
        "thislist = [\"apple\", \"banana\", \"cherry\"]\n",
        "tropical = [\"mango\", \"pineapple\", \"papaya\"]\n",
        "thislist.extend(tropical)\n",
        "print(thislist)"
      ],
      "metadata": {
        "colab": {
          "base_uri": "https://localhost:8080/"
        },
        "id": "_9LSzVbRiyxe",
        "outputId": "8058ef9e-4d07-47f8-fa02-d38c9549c5fa"
      },
      "execution_count": null,
      "outputs": [
        {
          "output_type": "stream",
          "name": "stdout",
          "text": [
            "['apple', 'banana', 'cherry', 'mango', 'pineapple', 'papaya']\n"
          ]
        }
      ]
    },
    {
      "cell_type": "code",
      "source": [
        "# How do we remove items from a list\n",
        "#We use the Remove () command\n",
        "#Example\n",
        "list1=[1,2,3,4,5,6,7,8,9,10]\n",
        "list1.remove(2)\n",
        "print(list1)"
      ],
      "metadata": {
        "colab": {
          "base_uri": "https://localhost:8080/"
        },
        "id": "yF3rffz1jJ1I",
        "outputId": "11527c2c-a94b-4c1c-b30d-a191add7d450"
      },
      "execution_count": null,
      "outputs": [
        {
          "output_type": "stream",
          "name": "stdout",
          "text": [
            "[1, 3, 4, 5, 6, 7, 8, 9, 10]\n"
          ]
        }
      ]
    },
    {
      "cell_type": "code",
      "source": [
        "list2=[\"Byron\",\"Omondi\",\"Apheth\"]\n",
        "list2.remove(\"Omondi\")\n",
        "print(list2)"
      ],
      "metadata": {
        "colab": {
          "base_uri": "https://localhost:8080/"
        },
        "id": "NDE06hB-pWFa",
        "outputId": "e90071b3-e846-4c53-a8c9-6e55fa798827"
      },
      "execution_count": null,
      "outputs": [
        {
          "output_type": "stream",
          "name": "stdout",
          "text": [
            "['Byron', 'Apheth']\n"
          ]
        }
      ]
    },
    {
      "cell_type": "code",
      "source": [
        "# pop() and del command delete items in a list by stating the position of the item using index\n",
        "list3=[\"Byron\",\"Omondi\",\"Apheth\"]\n",
        "list3.pop(1)\n",
        "print(list3)"
      ],
      "metadata": {
        "colab": {
          "base_uri": "https://localhost:8080/"
        },
        "id": "yuZ1W1uQpltO",
        "outputId": "98b07318-67b7-45db-cc2d-246cdef6fa02"
      },
      "execution_count": null,
      "outputs": [
        {
          "output_type": "stream",
          "name": "stdout",
          "text": [
            "['Byron', 'Apheth']\n"
          ]
        }
      ]
    },
    {
      "cell_type": "code",
      "source": [
        "list4=[\"Byron\",\"Omondi\",\"Apheth\"]\n",
        "list4.pop() #without specifying the index, pop() command deletes the last item on the list\n",
        "print(list4)"
      ],
      "metadata": {
        "colab": {
          "base_uri": "https://localhost:8080/"
        },
        "id": "KpFeG4buqFvT",
        "outputId": "7ec46297-7181-4d60-ee26-cdbaded5c23e"
      },
      "execution_count": null,
      "outputs": [
        {
          "output_type": "stream",
          "name": "stdout",
          "text": [
            "['Byron', 'Omondi']\n"
          ]
        }
      ]
    },
    {
      "cell_type": "code",
      "source": [
        "list5=[\"Byron\",\"Omondi\",\"Apheth\"]\n",
        "del list5[1]\n",
        "print(list5) "
      ],
      "metadata": {
        "colab": {
          "base_uri": "https://localhost:8080/"
        },
        "id": "IuKX1k7gqobd",
        "outputId": "b6434ddc-30af-49d3-e439-c582149797de"
      },
      "execution_count": null,
      "outputs": [
        {
          "output_type": "stream",
          "name": "stdout",
          "text": [
            "['Byron', 'Apheth']\n"
          ]
        }
      ]
    },
    {
      "cell_type": "code",
      "source": [
        "# del Command can acqually delete the entire list\n",
        "list6=[\"Byron\",\"Omondi\",\"Apheth\"]\n",
        "del list6\n",
        "# print(list6) This would give you a Name error saying list6 not defined"
      ],
      "metadata": {
        "id": "VwTDQByutQWa"
      },
      "execution_count": null,
      "outputs": []
    },
    {
      "cell_type": "code",
      "source": [
        "# To clear up every element within the list but still retain the list\n",
        "# Use the command word clear()\n",
        "list7=[\"Byron\",\"Omondi\",\"Apheth\"]\n",
        "list7.clear()\n",
        "print(list7)"
      ],
      "metadata": {
        "colab": {
          "base_uri": "https://localhost:8080/"
        },
        "id": "C6F9Plr4tjHz",
        "outputId": "cae182ee-9a32-491c-9eae-9d1f4ee9b522"
      },
      "execution_count": null,
      "outputs": [
        {
          "output_type": "stream",
          "name": "stdout",
          "text": [
            "[]\n"
          ]
        }
      ]
    },
    {
      "cell_type": "markdown",
      "source": [
        "# Loops In Lists\n",
        "\n",
        "For loop and While Loop\n",
        "\n",
        "For loop is used to iterate through a list of items in a List, turple, dictionary, set or a word"
      ],
      "metadata": {
        "id": "mlrW7zvZxiW8"
      }
    },
    {
      "cell_type": "code",
      "source": [
        "list1=[\"Mango\",\"Orange\",\"Bananas\",\"Watermellons\",\"Blueberry\"]\n",
        "for i in list1:\n",
        "  print(i)"
      ],
      "metadata": {
        "colab": {
          "base_uri": "https://localhost:8080/"
        },
        "id": "TLJlBeStuRyv",
        "outputId": "c088a01c-946b-41b0-d567-14750545cdc0"
      },
      "execution_count": null,
      "outputs": [
        {
          "output_type": "stream",
          "name": "stdout",
          "text": [
            "Mango\n",
            "Orange\n",
            "Bananas\n",
            "Watermellons\n",
            "Blueberry\n"
          ]
        }
      ]
    },
    {
      "cell_type": "code",
      "source": [
        "z=\"Bananas\"\n",
        "for x in z:\n",
        "  print(x)"
      ],
      "metadata": {
        "colab": {
          "base_uri": "https://localhost:8080/"
        },
        "id": "HDq4p2gZyL9R",
        "outputId": "ae626c7a-cc59-4410-9daa-9d62489c58bb"
      },
      "execution_count": null,
      "outputs": [
        {
          "output_type": "stream",
          "name": "stdout",
          "text": [
            "B\n",
            "a\n",
            "n\n",
            "a\n",
            "n\n",
            "a\n",
            "s\n"
          ]
        }
      ]
    },
    {
      "cell_type": "code",
      "source": [
        "list2=[\"Eldoret\",\"Kisumu\",\"Nairobi\",\"Mombasa\",\"Busia\",\"Kitale\",\"Kitui\"]\n",
        "for i in range(len(list2)):\n",
        "  print(list2[i])"
      ],
      "metadata": {
        "colab": {
          "base_uri": "https://localhost:8080/"
        },
        "id": "pyzpxaVZyWeY",
        "outputId": "518ab395-e490-409b-e569-e28c49699113"
      },
      "execution_count": null,
      "outputs": [
        {
          "output_type": "stream",
          "name": "stdout",
          "text": [
            "Eldoret\n",
            "Kisumu\n",
            "Nairobi\n",
            "Mombasa\n",
            "Busia\n",
            "Kitale\n",
            "Kitui\n"
          ]
        }
      ]
    },
    {
      "cell_type": "code",
      "source": [
        "# While Loop/ Forever loop\n",
        "list4=[\"Wafula\",\"Fredy\",\"Richard\",\"Chebuu\",\"Jasto\",\"David\",\"Dennis\"]\n",
        "i = 0 # Initialization is key in the while loop, it denote the starting point\n",
        "while i < len(list4):\n",
        "  print(list4[i])\n",
        "  i=i+1 # Can be written as i+=1\n"
      ],
      "metadata": {
        "colab": {
          "base_uri": "https://localhost:8080/"
        },
        "id": "519h5uIoy5Py",
        "outputId": "42ef7c4b-1d2e-4955-ba74-a6bb085b9a08"
      },
      "execution_count": null,
      "outputs": [
        {
          "output_type": "stream",
          "name": "stdout",
          "text": [
            "Wafula\n",
            "Fredy\n",
            "Richard\n",
            "Chebuu\n",
            "Jasto\n",
            "David\n",
            "Dennis\n"
          ]
        }
      ]
    },
    {
      "cell_type": "code",
      "source": [
        "# Sorting elements within a list\n",
        "#use the sort(), reverse ()\n",
        "list1=[\"Eldoret\",\"Kisumu\",\"Nairobi\",\"Mombasa\",\"Busia\",\"Kitale\",\"Kitui\"]\n",
        "list1.sort() # Arrange alphabetically\n",
        "print(list1)"
      ],
      "metadata": {
        "colab": {
          "base_uri": "https://localhost:8080/"
        },
        "id": "uXB4Wwsh2cLr",
        "outputId": "788ec8f5-d814-4c77-cd72-3e3427d1d4ba"
      },
      "execution_count": null,
      "outputs": [
        {
          "output_type": "stream",
          "name": "stdout",
          "text": [
            "['Busia', 'Eldoret', 'Kisumu', 'Kitale', 'Kitui', 'Mombasa', 'Nairobi']\n"
          ]
        }
      ]
    },
    {
      "cell_type": "code",
      "source": [
        "list2=[1,6,3,8,5,9,6]\n",
        "list2.sort() # Arrange in ascending order- smallest to largest\n",
        "print(list2)"
      ],
      "metadata": {
        "colab": {
          "base_uri": "https://localhost:8080/"
        },
        "id": "g-sWvxb03-s8",
        "outputId": "1e6c7f53-b9e3-4b42-cdc7-a3e2b60ff548"
      },
      "execution_count": null,
      "outputs": [
        {
          "output_type": "stream",
          "name": "stdout",
          "text": [
            "[1, 3, 5, 6, 6, 8, 9]\n"
          ]
        }
      ]
    },
    {
      "cell_type": "code",
      "source": [
        "# To arrange in Discending order we use sort(reverse=True)\n",
        "list3=[4,2,1,6,9,5,8]\n",
        "list3.sort(reverse=True)\n",
        "print(list3)"
      ],
      "metadata": {
        "colab": {
          "base_uri": "https://localhost:8080/"
        },
        "id": "1c4pprTK4N4x",
        "outputId": "47bf54b6-9687-4227-99c4-5320e964e53c"
      },
      "execution_count": null,
      "outputs": [
        {
          "output_type": "stream",
          "name": "stdout",
          "text": [
            "[9, 8, 6, 5, 4, 2, 1]\n"
          ]
        }
      ]
    },
    {
      "cell_type": "code",
      "source": [
        "list3.reverse() # Gives a reversed order \n",
        "print(list3)"
      ],
      "metadata": {
        "colab": {
          "base_uri": "https://localhost:8080/"
        },
        "id": "FwEnvN5w4qTx",
        "outputId": "1242b5a6-ad7d-4bbb-82cf-c2de0b9777ff"
      },
      "execution_count": null,
      "outputs": [
        {
          "output_type": "stream",
          "name": "stdout",
          "text": [
            "[1, 2, 4, 5, 6, 8, 9]\n"
          ]
        }
      ]
    },
    {
      "cell_type": "code",
      "source": [
        "# Copying lists\n",
        "list4=[\"brain\",\"Joy\",\"Mercy\",\"Dennis\"]\n",
        "list5=list4.copy()\n",
        "print(list5)"
      ],
      "metadata": {
        "colab": {
          "base_uri": "https://localhost:8080/"
        },
        "id": "cDQV_AK24xhf",
        "outputId": "f59dba5b-9c13-4675-ae2f-22ba13cf16b2"
      },
      "execution_count": null,
      "outputs": [
        {
          "output_type": "stream",
          "name": "stdout",
          "text": [
            "['brain', 'Joy', 'Mercy', 'Dennis']\n"
          ]
        }
      ]
    },
    {
      "cell_type": "markdown",
      "source": [
        "# Turples\n",
        "Tuples are used to store multiple items in a single variable.\n",
        "\n",
        "Unlike the lists, turple uses normal parathesis\n",
        "\n",
        "Has order and cannot be changed."
      ],
      "metadata": {
        "id": "j2VH-Ksv8Z8u"
      }
    },
    {
      "cell_type": "code",
      "source": [
        "turple1=(\"Byron\",\"Omondi\",\"Apheth\",\"Onyango\")\n",
        "print(turple1)\n",
        "print(type(turple1))"
      ],
      "metadata": {
        "colab": {
          "base_uri": "https://localhost:8080/"
        },
        "id": "f4Uw4U7c8PtO",
        "outputId": "80bf6c9b-123b-479d-a2c8-731b303d5e4e"
      },
      "execution_count": null,
      "outputs": [
        {
          "output_type": "stream",
          "name": "stdout",
          "text": [
            "('Byron', 'Omondi', 'Apheth', 'Onyango')\n",
            "<class 'tuple'>\n"
          ]
        }
      ]
    },
    {
      "cell_type": "code",
      "source": [
        "# Once a tuple is created, you cannot change its values. Tuples are unchangeable, or immutable as it also is called."
      ],
      "metadata": {
        "id": "VFb8Fmjg8-Pp"
      },
      "execution_count": null,
      "outputs": []
    },
    {
      "cell_type": "markdown",
      "source": [
        "# Sets\n",
        "Sets are used to store multiple items in a single variable.\n",
        "\n",
        "A set is a collection which is unordered, unchangeable*, and unindexed.\n",
        "\n",
        "* Note: Set items are unchangeable, but you can remove items and add new items."
      ],
      "metadata": {
        "id": "y0fgUJvI9pWA"
      }
    },
    {
      "cell_type": "code",
      "source": [
        "# Set\n",
        "myset={\"Byron\",\"Omondi\",\"Onyango\"}\n",
        "print(myset)\n",
        "print(type(myset))"
      ],
      "metadata": {
        "colab": {
          "base_uri": "https://localhost:8080/"
        },
        "id": "sLreP-0C9aGq",
        "outputId": "3d637c68-8d15-4abd-868d-edf18c1f5695"
      },
      "execution_count": null,
      "outputs": [
        {
          "output_type": "stream",
          "name": "stdout",
          "text": [
            "{'Onyango', 'Omondi', 'Byron'}\n",
            "<class 'set'>\n"
          ]
        }
      ]
    },
    {
      "cell_type": "code",
      "source": [
        "# To add element in a set use command add() and update\n",
        "myset.add(\"Apheth\")\n",
        "print(myset)"
      ],
      "metadata": {
        "colab": {
          "base_uri": "https://localhost:8080/"
        },
        "id": "2PPgSotq_bFo",
        "outputId": "bb8109c7-cf79-4bca-9524-7df058dbdda1"
      },
      "execution_count": null,
      "outputs": [
        {
          "output_type": "stream",
          "name": "stdout",
          "text": [
            "{'Onyango', 'Omondi', 'Byron', 'Apheth'}\n"
          ]
        }
      ]
    },
    {
      "cell_type": "code",
      "source": [
        "# Upadate used to add a list or a turple to a set"
      ],
      "metadata": {
        "id": "sBnwoEGJ_5A-"
      },
      "execution_count": null,
      "outputs": []
    },
    {
      "cell_type": "markdown",
      "source": [
        "Dictionaries \n",
        "\n",
        "Stores Data values in Key: Values \n",
        "\n",
        "Example\n",
        "\n",
        "Model: Mercedes\n",
        "\n",
        "Colour: Black\n",
        "\n",
        "Millage: 25000\n"
      ],
      "metadata": {
        "id": "KIWd0bSwEXhQ"
      }
    },
    {
      "cell_type": "code",
      "source": [
        "dict1={\"Model\":\"Mercedez\",\n",
        "       \"Colour\":\"Black\",\n",
        "       \"Milage\":23500,\n",
        "       \"Country\":\"Singapore\",\n",
        "       \"Sterring\":\"right\"}\n",
        "print(dict1)"
      ],
      "metadata": {
        "id": "KvP3mSWtAKof",
        "colab": {
          "base_uri": "https://localhost:8080/"
        },
        "outputId": "e9e69678-e6a8-4ee3-95e1-adcbdf8c52a6"
      },
      "execution_count": null,
      "outputs": [
        {
          "output_type": "stream",
          "name": "stdout",
          "text": [
            "{'Model': 'Mercedez', 'Colour': 'Black', 'Milage': 23500, 'Country': 'Singapore', 'Sterring': 'right'}\n"
          ]
        }
      ]
    },
    {
      "cell_type": "code",
      "source": [
        "print(type(dict1))"
      ],
      "metadata": {
        "colab": {
          "base_uri": "https://localhost:8080/"
        },
        "id": "kQlhWiUvGoW2",
        "outputId": "5c1d6dca-de19-406a-8722-f254b46367b4"
      },
      "execution_count": null,
      "outputs": [
        {
          "output_type": "stream",
          "name": "stdout",
          "text": [
            "<class 'dict'>\n"
          ]
        }
      ]
    },
    {
      "cell_type": "code",
      "source": [
        "print(dict1)"
      ],
      "metadata": {
        "colab": {
          "base_uri": "https://localhost:8080/"
        },
        "id": "UQ35rpnyHBMY",
        "outputId": "6ff1f734-8083-419c-a3ed-42da050c3015"
      },
      "execution_count": null,
      "outputs": [
        {
          "output_type": "stream",
          "name": "stdout",
          "text": [
            "{'Model': 'Mercedez', 'Colour': 'Black', 'Milage': 23500, 'Country': 'Singapore', 'Sterring': 'right'}\n"
          ]
        }
      ]
    },
    {
      "cell_type": "code",
      "source": [
        "# To access the values in the dictionary use the key as the index number\n",
        "print(dict1[\"Model\"])"
      ],
      "metadata": {
        "colab": {
          "base_uri": "https://localhost:8080/"
        },
        "id": "kF6VT14KHElh",
        "outputId": "20bf713f-b435-4db4-a190-bf5382a4411f"
      },
      "execution_count": null,
      "outputs": [
        {
          "output_type": "stream",
          "name": "stdout",
          "text": [
            "Mercedez\n"
          ]
        }
      ]
    },
    {
      "cell_type": "code",
      "source": [
        "# To create a dictionary use the keyword dict() command\n",
        "dict2=dict(Brand=\"Toyota\",year=2023,Make=\"Singapore\")\n",
        "print(dict2)\n",
        "print(type(dict2))"
      ],
      "metadata": {
        "colab": {
          "base_uri": "https://localhost:8080/"
        },
        "id": "ypkFmIY5IlXY",
        "outputId": "56b44280-367f-4d66-db36-4b0e1c2b55ac"
      },
      "execution_count": null,
      "outputs": [
        {
          "output_type": "stream",
          "name": "stdout",
          "text": [
            "{'Brand': 'Toyota', 'year': 2023, 'Make': 'Singapore'}\n",
            "<class 'dict'>\n"
          ]
        }
      ]
    },
    {
      "cell_type": "markdown",
      "source": [
        "Dictionary is a collection which is ordered** and changeable. No duplicate members."
      ],
      "metadata": {
        "id": "D2eLHSXVJieL"
      }
    },
    {
      "cell_type": "code",
      "source": [
        "# To change values of the key use the following commands\n",
        "dict1[\"Model\"]=\"Jeep\"\n",
        "print(dict1)"
      ],
      "metadata": {
        "colab": {
          "base_uri": "https://localhost:8080/"
        },
        "id": "HnjdTITgI_eW",
        "outputId": "3e0df68f-d915-4693-f706-156481b9879c"
      },
      "execution_count": null,
      "outputs": [
        {
          "output_type": "stream",
          "name": "stdout",
          "text": [
            "{'Model': 'Jeep', 'Colour': 'Black', 'Milage': 23500, 'Country': 'Singapore', 'Sterring': 'right'}\n"
          ]
        }
      ]
    },
    {
      "cell_type": "code",
      "source": [
        "# Addding items in the dictionary\n",
        "dict1[\"Date\"]= \"2rd September 2022\"\n",
        "print(dict1)"
      ],
      "metadata": {
        "colab": {
          "base_uri": "https://localhost:8080/"
        },
        "id": "9HR8zAmwJ_8L",
        "outputId": "5d00e107-32c5-4d35-b655-f8c819c98dc2"
      },
      "execution_count": null,
      "outputs": [
        {
          "output_type": "stream",
          "name": "stdout",
          "text": [
            "{'Model': 'Jeep', 'Colour': 'Black', 'Milage': 23500, 'Country': 'Singapore', 'Sterring': 'right', 'Date': '2rd September 2022'}\n"
          ]
        }
      ]
    },
    {
      "cell_type": "markdown",
      "source": [
        "## If ... Else Conditions\n",
        "\n",
        "Equals: a == b\n",
        "\n",
        "Not Equals: a != b\n",
        "\n",
        "Less than: a < b\n",
        "\n",
        "Less than or equal to: a <= b\n",
        "\n",
        "Greater than: a > b\n",
        "\n",
        "Greater than or equal to: a >= b\n"
      ],
      "metadata": {
        "id": "qKQN9BAUK1g2"
      }
    },
    {
      "cell_type": "code",
      "source": [
        "a= 2000\n",
        "b=4567\n",
        "if a<b:\n",
        "  print(\" a is less than b\")\n",
        "else:\n",
        "  print(\"a is greater than b\")"
      ],
      "metadata": {
        "colab": {
          "base_uri": "https://localhost:8080/"
        },
        "id": "gwRScWBaKfYy",
        "outputId": "95932957-081d-48d3-ae87-305ae46a5ceb"
      },
      "execution_count": null,
      "outputs": [
        {
          "output_type": "stream",
          "name": "stdout",
          "text": [
            " a is less than b\n"
          ]
        }
      ]
    },
    {
      "cell_type": "markdown",
      "source": [
        "## Elif\n",
        "\n",
        "The elif keyword is Python's way of saying \"if the previous conditions were not true, then try this condition\"."
      ],
      "metadata": {
        "id": "a991fIW3NWjQ"
      }
    },
    {
      "cell_type": "code",
      "source": [
        "a=23\n",
        "b=54\n",
        "if a ==b:\n",
        "  print(\" a is equal to b\")\n",
        "elif a>b:\n",
        "  print(\" a is greater than b\")\n",
        "else:\n",
        "  print(\"a is less than b\")"
      ],
      "metadata": {
        "colab": {
          "base_uri": "https://localhost:8080/"
        },
        "id": "3moo2QtRNS0w",
        "outputId": "c234a51e-db98-47d7-8524-18de2b7e4aed"
      },
      "execution_count": null,
      "outputs": [
        {
          "output_type": "stream",
          "name": "stdout",
          "text": [
            "a is less than b\n"
          ]
        }
      ]
    },
    {
      "cell_type": "code",
      "source": [
        "# Just like if, elif has to have a condition following afterwards unlike the else condition\n"
      ],
      "metadata": {
        "id": "q7gm1M1oN4IP"
      },
      "execution_count": null,
      "outputs": []
    },
    {
      "cell_type": "code",
      "source": [
        "# And / Or\n",
        "a=12\n",
        "b=13\n",
        "c=16\n",
        "if a>b and c>b:\n",
        "  print(\" a is greater than b and c is greater than b\")\n",
        "else:\n",
        "  print(\" Nope\")\n",
        "  #OR\n",
        "if a>b or c>b:\n",
        "  print(\" a is greater than b and c is greater than b\")\n",
        "else:\n",
        "  print(\" Nope\")"
      ],
      "metadata": {
        "colab": {
          "base_uri": "https://localhost:8080/"
        },
        "id": "JBsYkSHvOF_O",
        "outputId": "c1df9f92-b847-47e4-ccab-c505357b8047"
      },
      "execution_count": null,
      "outputs": [
        {
          "output_type": "stream",
          "name": "stdout",
          "text": [
            " Nope\n",
            " a is greater than b and c is greater than b\n"
          ]
        }
      ]
    },
    {
      "cell_type": "code",
      "source": [
        "# Nested if refers to if within another if ...else statement\n",
        "# You can have if statements inside if statements, this is called nested if statements.\n"
      ],
      "metadata": {
        "id": "kUDWMrUjeTg_"
      },
      "execution_count": null,
      "outputs": []
    },
    {
      "cell_type": "code",
      "source": [
        "x=89\n",
        "if x>20:\n",
        "  print(\"It is greater than 20\")\n",
        "  if x>30:\n",
        "    print(\"It is greater than 30\")\n",
        "    if x>50:\n",
        "      print(\"It is greater than 50\")\n",
        "    else:\n",
        "      print(\" it is less than 50\")\n",
        "  else:\n",
        "    print(\"It is less than 30\")\n",
        "else:\n",
        "  print(\"It is less than 20\")\n"
      ],
      "metadata": {
        "id": "0NvjAL46f5sC",
        "colab": {
          "base_uri": "https://localhost:8080/"
        },
        "outputId": "7e65e648-890a-4a07-c6e3-07a1040df43e"
      },
      "execution_count": null,
      "outputs": [
        {
          "output_type": "stream",
          "name": "stdout",
          "text": [
            "It is greater than 20\n",
            "It is greater than 30\n",
            "It is greater than 50\n"
          ]
        }
      ]
    },
    {
      "cell_type": "code",
      "source": [
        "# To develop a school marks program we use if else and elif\n",
        "marks=int(input())\n",
        "if marks>=30 and marks<40:\n",
        "  print(\"D\")\n",
        "elif marks>=40 and marks<50:\n",
        "  print(\"C\")\n",
        "elif marks>= 50 and marks<60:\n",
        "  print(\"B\")\n",
        "elif marks>=60:\n",
        "  print(\"A\")\n",
        "else:\n",
        "  print(\"Fail\")\n"
      ],
      "metadata": {
        "colab": {
          "base_uri": "https://localhost:8080/"
        },
        "id": "sytwbPWOIwkG",
        "outputId": "e0730b41-3428-4a7e-e8f5-770cff293297"
      },
      "execution_count": null,
      "outputs": [
        {
          "output_type": "stream",
          "name": "stdout",
          "text": [
            "100\n",
            "A\n"
          ]
        }
      ]
    },
    {
      "cell_type": "markdown",
      "source": [
        "# More on Loops\n",
        "For Loops\n",
        "\n",
        "While Loops (Forever Loops)"
      ],
      "metadata": {
        "id": "rZOKu0xbMMVc"
      }
    },
    {
      "cell_type": "code",
      "source": [
        "# While loop will continue with the execution as long as the statement is True\n",
        "# Initialization is key in while loop\n",
        "y=1 # Initial value\n",
        "while y<9:\n",
        "  print(y)\n",
        "  y+=1\n"
      ],
      "metadata": {
        "colab": {
          "base_uri": "https://localhost:8080/"
        },
        "id": "x_uQ7RpLLZ3h",
        "outputId": "fb8047c1-485b-4262-c0a9-8a0c668ddf80"
      },
      "execution_count": null,
      "outputs": [
        {
          "output_type": "stream",
          "name": "stdout",
          "text": [
            "1\n",
            "2\n",
            "3\n",
            "4\n",
            "5\n",
            "6\n",
            "7\n",
            "8\n"
          ]
        }
      ]
    },
    {
      "cell_type": "code",
      "source": [
        "# The break statement in While loop\n",
        "# The Break statement stops the loop even if the statement is still true\n",
        "y=1 # Initial value\n",
        "while y<9:\n",
        "  print(y)\n",
        "  if y==5:\n",
        "    break\n",
        "  y+=1"
      ],
      "metadata": {
        "colab": {
          "base_uri": "https://localhost:8080/"
        },
        "id": "XOaKsg0NQDAc",
        "outputId": "8fdfe387-34f0-4d28-9382-520c5e7f23fc"
      },
      "execution_count": null,
      "outputs": [
        {
          "output_type": "stream",
          "name": "stdout",
          "text": [
            "1\n",
            "2\n",
            "3\n",
            "4\n",
            "5\n"
          ]
        }
      ]
    },
    {
      "cell_type": "code",
      "source": [
        "y=0 # Initial value\n",
        "while y<9:\n",
        "  y+=1\n",
        "  if y==5:\n",
        "    continue\n",
        "  print(y)"
      ],
      "metadata": {
        "colab": {
          "base_uri": "https://localhost:8080/"
        },
        "id": "WN1LEpISQzR7",
        "outputId": "1806953d-3529-485d-e4da-f25d2d05c21c"
      },
      "execution_count": null,
      "outputs": [
        {
          "output_type": "stream",
          "name": "stdout",
          "text": [
            "1\n",
            "2\n",
            "3\n",
            "4\n",
            "6\n",
            "7\n",
            "8\n",
            "9\n"
          ]
        }
      ]
    },
    {
      "cell_type": "code",
      "source": [
        "# For Loop\n",
        "#A for loop is used for iterating over a sequence (that is either a list, a tuple, a dictionary, a set, or a string)\n",
        "list3=[1,2,3,4,5,6]\n",
        "for i in list3:\n",
        "  print(i)"
      ],
      "metadata": {
        "colab": {
          "base_uri": "https://localhost:8080/"
        },
        "id": "jWUrnnWqR1O1",
        "outputId": "99f0ca23-9dc4-4bfc-9f49-c9d161e736ed"
      },
      "execution_count": null,
      "outputs": [
        {
          "output_type": "stream",
          "name": "stdout",
          "text": [
            "1\n",
            "2\n",
            "3\n",
            "4\n",
            "5\n",
            "6\n"
          ]
        }
      ]
    },
    {
      "cell_type": "code",
      "source": [
        "dict2={\"Brand\":\"Mercedez\",\"Colour\":\"Black\",\"Model\": \"SUV\",\"year\":2023}\n",
        "for i in dict2:\n",
        "  print(dict2[i])"
      ],
      "metadata": {
        "colab": {
          "base_uri": "https://localhost:8080/"
        },
        "id": "ZNd276G2VhYL",
        "outputId": "31eb563b-ce56-4a2e-a6f2-4018cd61d147"
      },
      "execution_count": null,
      "outputs": [
        {
          "output_type": "stream",
          "name": "stdout",
          "text": [
            "Mercedez\n",
            "Black\n",
            "SUV\n",
            "2023\n"
          ]
        }
      ]
    },
    {
      "cell_type": "code",
      "source": [
        "# The break and continue statement works the same same way as in While loop\n",
        "# The Range() command\n",
        "#The range() function returns a sequence of numbers, starting from 0 by default, and increments by 1 (by default), and ends at a specified number.\n",
        "for i in range(5):# 5 is not included\n",
        "  print(i)"
      ],
      "metadata": {
        "colab": {
          "base_uri": "https://localhost:8080/"
        },
        "id": "n2CB5mpdV5Ag",
        "outputId": "ba987d4f-1b16-43e6-d4b9-21a2d5ce6760"
      },
      "execution_count": null,
      "outputs": [
        {
          "output_type": "stream",
          "name": "stdout",
          "text": [
            "0\n",
            "1\n",
            "2\n",
            "3\n",
            "4\n"
          ]
        }
      ]
    },
    {
      "cell_type": "code",
      "source": [
        "for i in range(1,5):\n",
        "  print(i)"
      ],
      "metadata": {
        "colab": {
          "base_uri": "https://localhost:8080/"
        },
        "id": "nFwCcES0YfE8",
        "outputId": "6763f9bf-f4be-444f-fe5e-0f8a972bf3cf"
      },
      "execution_count": null,
      "outputs": [
        {
          "output_type": "stream",
          "name": "stdout",
          "text": [
            "1\n",
            "2\n",
            "3\n",
            "4\n"
          ]
        }
      ]
    },
    {
      "cell_type": "code",
      "source": [
        "for i in range(1,10,2): # The 1st arguement is the starting point(by default is Zero), the second argument is the end point( not always included) and finally the last argument is the number of steps\n",
        "  print(i)"
      ],
      "metadata": {
        "colab": {
          "base_uri": "https://localhost:8080/"
        },
        "id": "imNg_kVJYr82",
        "outputId": "5a6c741b-841d-44e4-c533-cac3811aea41"
      },
      "execution_count": null,
      "outputs": [
        {
          "output_type": "stream",
          "name": "stdout",
          "text": [
            "1\n",
            "3\n",
            "5\n",
            "7\n",
            "9\n"
          ]
        }
      ]
    },
    {
      "cell_type": "code",
      "source": [
        "for i in range(10,1,-2): # The 1st arguement is the starting point(by default is Zero), the second argument is the end point( not always included) and finally the last argument is the number of steps\n",
        "  print(i)"
      ],
      "metadata": {
        "colab": {
          "base_uri": "https://localhost:8080/"
        },
        "id": "mSrRt8nEY1wI",
        "outputId": "15fd0de1-94ba-49e9-862e-0db7a13e909d"
      },
      "execution_count": null,
      "outputs": [
        {
          "output_type": "stream",
          "name": "stdout",
          "text": [
            "10\n",
            "8\n",
            "6\n",
            "4\n",
            "2\n"
          ]
        }
      ]
    },
    {
      "cell_type": "code",
      "source": [
        "## The range() function defaults to increment the sequence by 1, however it is possible to specify the increment value by adding a third parameter"
      ],
      "metadata": {
        "id": "4E3swK7uZR9U"
      },
      "execution_count": null,
      "outputs": []
    },
    {
      "cell_type": "markdown",
      "source": [
        "# PYTHON FUNCTIONS\n",
        "A function is a block of code which only runs when it is called.\n",
        "\n",
        "You can pass data, known as parameters, into a function.\n",
        "\n",
        "A function can return data as a result."
      ],
      "metadata": {
        "id": "itqxcpyBdaLQ"
      }
    },
    {
      "cell_type": "code",
      "source": [
        "# CREATING A FUNCTION\n",
        "# We start a function by the word def which in full means definition. We fisrt define the function\n",
        "# We then create the function name e.g my_function add parethessis followed by a full column\n",
        "def my_function():\n",
        "  print(\" My name is Byron Onyango Otieno\")\n",
        "# To call the Function we state the function name followed by parethsis\n",
        "my_function()\n"
      ],
      "metadata": {
        "colab": {
          "base_uri": "https://localhost:8080/"
        },
        "id": "FYYMJLrrZhQ7",
        "outputId": "ed2907c7-af36-4f58-c932-2411648deaba"
      },
      "execution_count": null,
      "outputs": [
        {
          "output_type": "stream",
          "name": "stdout",
          "text": [
            " My name is Byron Onyango Otieno\n"
          ]
        }
      ]
    },
    {
      "cell_type": "code",
      "source": [
        "# Arguements or parameter are put inside the parentheisiss\n",
        "def my_function(fname,lname):\n",
        "  print(\"My name is \"+ fname+ \" \" +lname)\n",
        "\n",
        "my_function(\"Joseph\",\"Ombachi\")\n",
        "  "
      ],
      "metadata": {
        "id": "jvOW6sSH9md1",
        "colab": {
          "base_uri": "https://localhost:8080/"
        },
        "outputId": "e565a57b-5b09-4f70-c261-189532ca7fa0"
      },
      "execution_count": null,
      "outputs": [
        {
          "output_type": "stream",
          "name": "stdout",
          "text": [
            "My name is Joseph Ombachi\n"
          ]
        }
      ]
    },
    {
      "cell_type": "markdown",
      "source": [
        "# Arbitrary Arguments, *args\n",
        "If you do not know how many arguments that will be passed into your function, add a * before the parameter name in the function definition.\n",
        "\n",
        "This way the function will receive a tuple of arguments, and can access the items accordingly"
      ],
      "metadata": {
        "id": "DRqgKFknl_3A"
      }
    },
    {
      "cell_type": "code",
      "source": [
        "def my_function(*kids):\n",
        "  print(\"The youngest child is \" + kids[2])\n",
        "\n",
        "my_function(\"Emil\", \"Tobias\", \"Linus\")"
      ],
      "metadata": {
        "colab": {
          "base_uri": "https://localhost:8080/"
        },
        "id": "hlTVHdYXlT0G",
        "outputId": "29469a1f-03b3-454d-c2d6-9f7d067906ae"
      },
      "execution_count": null,
      "outputs": [
        {
          "output_type": "stream",
          "name": "stdout",
          "text": [
            "The youngest child is Linus\n"
          ]
        }
      ]
    },
    {
      "cell_type": "markdown",
      "source": [
        "# Python Lambda function\n",
        "A lambda function is a small anonymous function.\n",
        "\n",
        "A lambda function can take any number of arguments, but can only have one expression.\n",
        "# Syntax \n",
        "lambda arguments : expression\n",
        "\n",
        "The expression is executed and the result is returned:"
      ],
      "metadata": {
        "id": "6Ihf3I1anJNF"
      }
    },
    {
      "cell_type": "code",
      "source": [
        "y=lambda x:x*2\n",
        "print(y(10)) # No indentation required\n"
      ],
      "metadata": {
        "colab": {
          "base_uri": "https://localhost:8080/"
        },
        "id": "Fa6UNo2QmIXr",
        "outputId": "6bc3b5a4-6bf7-4ef0-d689-fdc30d610146"
      },
      "execution_count": null,
      "outputs": [
        {
          "output_type": "stream",
          "name": "stdout",
          "text": [
            "20\n"
          ]
        }
      ]
    },
    {
      "cell_type": "code",
      "source": [
        "x=lambda z:z+25\n",
        "print(x(25))"
      ],
      "metadata": {
        "colab": {
          "base_uri": "https://localhost:8080/"
        },
        "id": "xgLLq5zyqWoV",
        "outputId": "a103f53a-8f79-4723-8bec-d69c90a3a396"
      },
      "execution_count": null,
      "outputs": [
        {
          "output_type": "stream",
          "name": "stdout",
          "text": [
            "50\n"
          ]
        }
      ]
    },
    {
      "cell_type": "code",
      "source": [
        "z=lambda x,v: x+v\n",
        "print(z(2,8))"
      ],
      "metadata": {
        "colab": {
          "base_uri": "https://localhost:8080/"
        },
        "id": "pjZC4iq8qnHd",
        "outputId": "31a88f62-a084-40e3-ab79-8b2f63e3a041"
      },
      "execution_count": null,
      "outputs": [
        {
          "output_type": "stream",
          "name": "stdout",
          "text": [
            "10\n"
          ]
        }
      ]
    },
    {
      "cell_type": "code",
      "source": [
        "m=lambda a,b,c: a+b+c # All the arguments used need to appear at the expression\n",
        "print(m(12,18,20))"
      ],
      "metadata": {
        "colab": {
          "base_uri": "https://localhost:8080/"
        },
        "id": "neyji_bAq7bg",
        "outputId": "8fb26930-2856-46f9-875e-e1f6895fec3f"
      },
      "execution_count": null,
      "outputs": [
        {
          "output_type": "stream",
          "name": "stdout",
          "text": [
            "50\n"
          ]
        }
      ]
    },
    {
      "cell_type": "code",
      "source": [
        "# Use that function definition to make a function that always doubles the number you send in:\n",
        "def my_function(n):\n",
        "  return lambda a: a*n\n",
        "mydoubler=my_function(2)\n",
        "\n",
        "print(mydoubler(24))"
      ],
      "metadata": {
        "colab": {
          "base_uri": "https://localhost:8080/"
        },
        "id": "0Wxu_5bmrNwB",
        "outputId": "de66ccbd-3e4c-48a9-91ba-e452ff4421cc"
      },
      "execution_count": null,
      "outputs": [
        {
          "output_type": "stream",
          "name": "stdout",
          "text": [
            "48\n"
          ]
        }
      ]
    },
    {
      "cell_type": "code",
      "source": [
        "# Use that function definition to make a function that always tripple the number you send in:\n",
        "def my_function(n):\n",
        "  return lambda a: a*n\n",
        "mydoubler=my_function(3)\n",
        "\n",
        "print(mydoubler(30))"
      ],
      "metadata": {
        "colab": {
          "base_uri": "https://localhost:8080/"
        },
        "id": "nCNe8ACOsRfk",
        "outputId": "5c830cab-89c7-4796-9e01-bda48ade8113"
      },
      "execution_count": null,
      "outputs": [
        {
          "output_type": "stream",
          "name": "stdout",
          "text": [
            "90\n"
          ]
        }
      ]
    },
    {
      "cell_type": "markdown",
      "source": [
        "# PYTHON ARRAY\n",
        "Array operate just like lists in python however we first need to import Numpy inorder to work with Arrays in Python"
      ],
      "metadata": {
        "id": "IXm8NoM6s_eO"
      }
    },
    {
      "cell_type": "code",
      "source": [],
      "metadata": {
        "id": "mV1h9uKqsaVs"
      },
      "execution_count": null,
      "outputs": []
    }
  ]
}